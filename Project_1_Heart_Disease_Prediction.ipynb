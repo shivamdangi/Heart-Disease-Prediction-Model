{
  "nbformat": 4,
  "nbformat_minor": 0,
  "metadata": {
    "colab": {
      "provenance": []
    },
    "kernelspec": {
      "name": "python3",
      "display_name": "Python 3"
    },
    "language_info": {
      "name": "python"
    }
  },
  "cells": [
    {
      "cell_type": "code",
      "execution_count": 1,
      "metadata": {
        "id": "Q9O75KJdBShx"
      },
      "outputs": [],
      "source": [
        "#import the libraries required\n",
        "import numpy as np\n",
        "import pandas as pd           #create dataframes\n",
        "from sklearn.model_selection import train_test_split            #dividing data into training and testing data\n",
        "from sklearn.linear_model import LogisticRegression            #project is done using logistic regression for binary classification\n",
        "from sklearn.metrics import accuracy_score              #evaluate the model generated"
      ]
    },
    {
      "cell_type": "code",
      "source": [
        "#import dataset and load csv finle to pandas dataframe\n",
        "\n",
        "heart_data=pd.read_csv('/content/heart.csv')"
      ],
      "metadata": {
        "id": "aSOAYX2LEKe_"
      },
      "execution_count": 4,
      "outputs": []
    },
    {
      "cell_type": "code",
      "source": [
        "heart_data.head()"
      ],
      "metadata": {
        "id": "pR2CbSFrEZI1"
      },
      "execution_count": null,
      "outputs": []
    },
    {
      "cell_type": "code",
      "source": [
        "heart_data.tail()\n"
      ],
      "metadata": {
        "id": "MJjgXC_pEk7k"
      },
      "execution_count": null,
      "outputs": []
    },
    {
      "cell_type": "code",
      "source": [
        "heart_data.shape"
      ],
      "metadata": {
        "id": "m0Mp8xoyErRt"
      },
      "execution_count": null,
      "outputs": []
    },
    {
      "cell_type": "code",
      "source": [
        "heart_data.info()"
      ],
      "metadata": {
        "id": "cAH20k5RE36B"
      },
      "execution_count": null,
      "outputs": []
    },
    {
      "cell_type": "code",
      "source": [
        "heart_data.isnull().sum()"
      ],
      "metadata": {
        "id": "5yVTn_nxFETV"
      },
      "execution_count": null,
      "outputs": []
    },
    {
      "cell_type": "code",
      "source": [
        "heart_data.describe()"
      ],
      "metadata": {
        "id": "QRXWVNohFM2j"
      },
      "execution_count": null,
      "outputs": []
    },
    {
      "cell_type": "code",
      "source": [
        "heart_data['target'].value_counts()"
      ],
      "metadata": {
        "id": "XedeJ9sDFfCb"
      },
      "execution_count": null,
      "outputs": []
    },
    {
      "cell_type": "code",
      "source": [
        "#splitting the feature and target\n",
        "x=heart_data.drop(columns='target',axis=1)\n",
        "y=heart_data['target']"
      ],
      "metadata": {
        "id": "Vkk7s7gjGJso"
      },
      "execution_count": 13,
      "outputs": []
    },
    {
      "cell_type": "code",
      "source": [
        "print(x)"
      ],
      "metadata": {
        "id": "889q4M8DGkG0"
      },
      "execution_count": null,
      "outputs": []
    },
    {
      "cell_type": "code",
      "source": [
        "print(y)"
      ],
      "metadata": {
        "id": "RYuXZ2RdGnbQ"
      },
      "execution_count": null,
      "outputs": []
    },
    {
      "cell_type": "code",
      "source": [
        "#split data 'x' into training and testing data\n",
        "x_train,x_test,y_train,y_test=train_test_split(x,y,test_size=0.2,stratify=y,random_state=2)"
      ],
      "metadata": {
        "id": "Jn-ZA-SFGqRa"
      },
      "execution_count": 16,
      "outputs": []
    },
    {
      "cell_type": "code",
      "source": [
        "print(x.shape,x_train.shape,x_test.shape)"
      ],
      "metadata": {
        "id": "1wiK18qnHaVd"
      },
      "execution_count": null,
      "outputs": []
    },
    {
      "cell_type": "code",
      "source": [
        "#train the model WITH TRAINING DATA\n",
        "model=LogisticRegression()\n",
        "model.fit(x_train,y_train)\n"
      ],
      "metadata": {
        "id": "lRMqTbZmHnU5"
      },
      "execution_count": null,
      "outputs": []
    },
    {
      "cell_type": "code",
      "source": [
        "#model evaluation\n",
        "#accuracy on training data\n",
        "x_train_pred=model.predict(x_train)\n",
        "training_data_Acc=accuracy_score(x_train_pred,y_train)"
      ],
      "metadata": {
        "id": "gofeu6AJIKjC"
      },
      "execution_count": 31,
      "outputs": []
    },
    {
      "cell_type": "code",
      "source": [
        "print('accuracy of training data: ', training_data_Acc)"
      ],
      "metadata": {
        "colab": {
          "base_uri": "https://localhost:8080/"
        },
        "id": "eFL_UdcVI1GW",
        "outputId": "e71a806d-bb43-4484-f033-268d37b31ce7"
      },
      "execution_count": 32,
      "outputs": [
        {
          "output_type": "stream",
          "name": "stdout",
          "text": [
            "accuracy of training data:  0.8512396694214877\n"
          ]
        }
      ]
    },
    {
      "cell_type": "code",
      "source": [
        "#model evaluation\n",
        "#accuracy on training data\n",
        "x_test_pred=model.predict(x_test)\n",
        "test_data_Acc=accuracy_score(x_test_pred,y_test)"
      ],
      "metadata": {
        "id": "9CUfXYvOJHCl"
      },
      "execution_count": 23,
      "outputs": []
    },
    {
      "cell_type": "code",
      "source": [
        "print('accuracy of test data: ', test_data_Acc)"
      ],
      "metadata": {
        "colab": {
          "base_uri": "https://localhost:8080/"
        },
        "id": "R1cY7sd7JRMt",
        "outputId": "3196652c-b4ae-42a9-951c-a155a32ddf4d"
      },
      "execution_count": 30,
      "outputs": [
        {
          "output_type": "stream",
          "name": "stdout",
          "text": [
            "accuracy of test data:  0.819672131147541\n"
          ]
        }
      ]
    },
    {
      "cell_type": "code",
      "source": [
        "#Build a predictive system\n",
        "#give input to the model\n",
        "input_data=(41,0,1,130,204,0,0,172,0,1.4,2,0,2)\n",
        "input_data_nparr=np.asarray(input_data)             #convert the input tuple to numpy array\n",
        "input_data_reshape=input_data_nparr.reshape(1,-1)   #reshaping done as the model ais applied to one instance\n",
        "\n",
        "predict_output=model.predict(input_data_reshape)\n",
        "print(predict_output)\n",
        "\n",
        "\n",
        "if(predict_output[0]==0):\n",
        "  print('The person do not have heart disease')\n",
        "else:\n",
        "  print('The person has heart disease')"
      ],
      "metadata": {
        "id": "6AaODABHJitt"
      },
      "execution_count": null,
      "outputs": []
    }
  ]
}